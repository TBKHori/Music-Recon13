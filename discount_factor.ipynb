{
  "nbformat": 4,
  "nbformat_minor": 0,
  "metadata": {
    "colab": {
      "provenance": [],
      "authorship_tag": "ABX9TyNaa8x+6DviwtepmiFoqo0u",
      "include_colab_link": true
    },
    "kernelspec": {
      "name": "python3",
      "display_name": "Python 3"
    },
    "language_info": {
      "name": "python"
    }
  },
  "cells": [
    {
      "cell_type": "markdown",
      "metadata": {
        "id": "view-in-github",
        "colab_type": "text"
      },
      "source": [
        "<a href=\"https://colab.research.google.com/github/TBKHori/Music-Recon13/blob/main/discount_factor.ipynb\" target=\"_parent\"><img src=\"https://colab.research.google.com/assets/colab-badge.svg\" alt=\"Open In Colab\"/></a>"
      ]
    },
    {
      "cell_type": "markdown",
      "source": [
        "compute the discounted return and compare to the initial q-value estimate:"
      ],
      "metadata": {
        "id": "fELyg8uaYGdl"
      }
    },
    {
      "cell_type": "code",
      "execution_count": null,
      "metadata": {
        "id": "quUVlgg9WWAP"
      },
      "outputs": [],
      "source": [
        "# Get discount factor\n",
        "gamma = dqn_model.gamma\n",
        "\n",
        "# Compute discounted return\n",
        "sum_discounted_rewards = 0\n",
        "for i, reward in enumerate(reversed(episode_rewards)):\n",
        "    sum_discounted_rewards += (gamma**i) * reward\n",
        "\n",
        "print(f\"Sum discounted rewards: {sum_discounted_rewards:.2f}, initial q-value {initial_q_value:.2f}\")"
      ]
    }
  ]
}