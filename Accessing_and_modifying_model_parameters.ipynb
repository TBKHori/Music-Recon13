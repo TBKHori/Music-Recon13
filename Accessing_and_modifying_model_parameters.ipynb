{
  "nbformat": 4,
  "nbformat_minor": 0,
  "metadata": {
    "colab": {
      "provenance": [],
      "authorship_tag": "ABX9TyP+4O9g7wHHa/gk/M3B93+j",
      "include_colab_link": true
    },
    "kernelspec": {
      "name": "python3",
      "display_name": "Python 3"
    },
    "language_info": {
      "name": "python"
    }
  },
  "cells": [
    {
      "cell_type": "markdown",
      "metadata": {
        "id": "view-in-github",
        "colab_type": "text"
      },
      "source": [
        "<a href=\"https://colab.research.google.com/github/TBKHori/Music-Recon13/blob/main/Accessing_and_modifying_model_parameters.ipynb\" target=\"_parent\"><img src=\"https://colab.research.google.com/assets/colab-badge.svg\" alt=\"Open In Colab\"/></a>"
      ]
    },
    {
      "cell_type": "code",
      "execution_count": 5,
      "metadata": {
        "colab": {
          "base_uri": "https://localhost:8080/"
        },
        "id": "dEdcckJnYZ_b",
        "outputId": "201e039e-9ed7-4309-ba07-301c49d37cd9"
      },
      "outputs": [
        {
          "output_type": "stream",
          "name": "stdout",
          "text": [
            "Requirement already satisfied: typing in /usr/local/lib/python3.10/dist-packages (3.7.4.3)\n",
            "Collecting stable_baselines3\n",
            "  Downloading stable_baselines3-2.0.0-py3-none-any.whl (178 kB)\n",
            "\u001b[2K     \u001b[90m━━━━━━━━━━━━━━━━━━━━━━━━━━━━━━━━━━━━━━\u001b[0m \u001b[32m178.4/178.4 kB\u001b[0m \u001b[31m10.6 MB/s\u001b[0m eta \u001b[36m0:00:00\u001b[0m\n",
            "\u001b[?25hRequirement already satisfied: gymnasium==0.28.1 in /usr/local/lib/python3.10/dist-packages (from stable_baselines3) (0.28.1)\n",
            "Requirement already satisfied: numpy>=1.20 in /usr/local/lib/python3.10/dist-packages (from stable_baselines3) (1.22.4)\n",
            "Requirement already satisfied: torch>=1.11 in /usr/local/lib/python3.10/dist-packages (from stable_baselines3) (2.0.1+cu118)\n",
            "Requirement already satisfied: cloudpickle in /usr/local/lib/python3.10/dist-packages (from stable_baselines3) (2.2.1)\n",
            "Requirement already satisfied: pandas in /usr/local/lib/python3.10/dist-packages (from stable_baselines3) (1.5.3)\n",
            "Requirement already satisfied: matplotlib in /usr/local/lib/python3.10/dist-packages (from stable_baselines3) (3.7.1)\n",
            "Requirement already satisfied: jax-jumpy>=1.0.0 in /usr/local/lib/python3.10/dist-packages (from gymnasium==0.28.1->stable_baselines3) (1.0.0)\n",
            "Requirement already satisfied: typing-extensions>=4.3.0 in /usr/local/lib/python3.10/dist-packages (from gymnasium==0.28.1->stable_baselines3) (4.7.1)\n",
            "Requirement already satisfied: farama-notifications>=0.0.1 in /usr/local/lib/python3.10/dist-packages (from gymnasium==0.28.1->stable_baselines3) (0.0.4)\n",
            "Requirement already satisfied: filelock in /usr/local/lib/python3.10/dist-packages (from torch>=1.11->stable_baselines3) (3.12.2)\n",
            "Requirement already satisfied: sympy in /usr/local/lib/python3.10/dist-packages (from torch>=1.11->stable_baselines3) (1.11.1)\n",
            "Requirement already satisfied: networkx in /usr/local/lib/python3.10/dist-packages (from torch>=1.11->stable_baselines3) (3.1)\n",
            "Requirement already satisfied: jinja2 in /usr/local/lib/python3.10/dist-packages (from torch>=1.11->stable_baselines3) (3.1.2)\n",
            "Requirement already satisfied: triton==2.0.0 in /usr/local/lib/python3.10/dist-packages (from torch>=1.11->stable_baselines3) (2.0.0)\n",
            "Requirement already satisfied: cmake in /usr/local/lib/python3.10/dist-packages (from triton==2.0.0->torch>=1.11->stable_baselines3) (3.25.2)\n",
            "Requirement already satisfied: lit in /usr/local/lib/python3.10/dist-packages (from triton==2.0.0->torch>=1.11->stable_baselines3) (16.0.6)\n",
            "Requirement already satisfied: contourpy>=1.0.1 in /usr/local/lib/python3.10/dist-packages (from matplotlib->stable_baselines3) (1.1.0)\n",
            "Requirement already satisfied: cycler>=0.10 in /usr/local/lib/python3.10/dist-packages (from matplotlib->stable_baselines3) (0.11.0)\n",
            "Requirement already satisfied: fonttools>=4.22.0 in /usr/local/lib/python3.10/dist-packages (from matplotlib->stable_baselines3) (4.40.0)\n",
            "Requirement already satisfied: kiwisolver>=1.0.1 in /usr/local/lib/python3.10/dist-packages (from matplotlib->stable_baselines3) (1.4.4)\n",
            "Requirement already satisfied: packaging>=20.0 in /usr/local/lib/python3.10/dist-packages (from matplotlib->stable_baselines3) (23.1)\n",
            "Requirement already satisfied: pillow>=6.2.0 in /usr/local/lib/python3.10/dist-packages (from matplotlib->stable_baselines3) (8.4.0)\n",
            "Requirement already satisfied: pyparsing>=2.3.1 in /usr/local/lib/python3.10/dist-packages (from matplotlib->stable_baselines3) (3.1.0)\n",
            "Requirement already satisfied: python-dateutil>=2.7 in /usr/local/lib/python3.10/dist-packages (from matplotlib->stable_baselines3) (2.8.2)\n",
            "Requirement already satisfied: pytz>=2020.1 in /usr/local/lib/python3.10/dist-packages (from pandas->stable_baselines3) (2022.7.1)\n",
            "Requirement already satisfied: six>=1.5 in /usr/local/lib/python3.10/dist-packages (from python-dateutil>=2.7->matplotlib->stable_baselines3) (1.16.0)\n",
            "Requirement already satisfied: MarkupSafe>=2.0 in /usr/local/lib/python3.10/dist-packages (from jinja2->torch>=1.11->stable_baselines3) (2.1.3)\n",
            "Requirement already satisfied: mpmath>=0.19 in /usr/local/lib/python3.10/dist-packages (from sympy->torch>=1.11->stable_baselines3) (1.3.0)\n",
            "Installing collected packages: stable_baselines3\n",
            "Successfully installed stable_baselines3-2.0.0\n",
            "Requirement already satisfied: torch in /usr/local/lib/python3.10/dist-packages (2.0.1+cu118)\n",
            "Requirement already satisfied: filelock in /usr/local/lib/python3.10/dist-packages (from torch) (3.12.2)\n",
            "Requirement already satisfied: typing-extensions in /usr/local/lib/python3.10/dist-packages (from torch) (4.7.1)\n",
            "Requirement already satisfied: sympy in /usr/local/lib/python3.10/dist-packages (from torch) (1.11.1)\n",
            "Requirement already satisfied: networkx in /usr/local/lib/python3.10/dist-packages (from torch) (3.1)\n",
            "Requirement already satisfied: jinja2 in /usr/local/lib/python3.10/dist-packages (from torch) (3.1.2)\n",
            "Requirement already satisfied: triton==2.0.0 in /usr/local/lib/python3.10/dist-packages (from torch) (2.0.0)\n",
            "Requirement already satisfied: cmake in /usr/local/lib/python3.10/dist-packages (from triton==2.0.0->torch) (3.25.2)\n",
            "Requirement already satisfied: lit in /usr/local/lib/python3.10/dist-packages (from triton==2.0.0->torch) (16.0.6)\n",
            "Requirement already satisfied: MarkupSafe>=2.0 in /usr/local/lib/python3.10/dist-packages (from jinja2->torch) (2.1.3)\n",
            "Requirement already satisfied: mpmath>=0.19 in /usr/local/lib/python3.10/dist-packages (from sympy->torch) (1.3.0)\n",
            "Requirement already satisfied: numpy in /usr/local/lib/python3.10/dist-packages (1.22.4)\n",
            "Requirement already satisfied: gymnasium in /usr/local/lib/python3.10/dist-packages (0.28.1)\n",
            "Requirement already satisfied: numpy>=1.21.0 in /usr/local/lib/python3.10/dist-packages (from gymnasium) (1.22.4)\n",
            "Requirement already satisfied: jax-jumpy>=1.0.0 in /usr/local/lib/python3.10/dist-packages (from gymnasium) (1.0.0)\n",
            "Requirement already satisfied: cloudpickle>=1.2.0 in /usr/local/lib/python3.10/dist-packages (from gymnasium) (2.2.1)\n",
            "Requirement already satisfied: typing-extensions>=4.3.0 in /usr/local/lib/python3.10/dist-packages (from gymnasium) (4.7.1)\n",
            "Requirement already satisfied: farama-notifications>=0.0.1 in /usr/local/lib/python3.10/dist-packages (from gymnasium) (0.0.4)\n"
          ]
        }
      ],
      "source": [
        "!pip install typing\n",
        "!pip install stable_baselines3\n",
        "!pip install torch\n",
        "!pip install numpy\n",
        "!pip install gymnasium"
      ]
    },
    {
      "cell_type": "code",
      "source": [
        "from typing import Dict\n"
      ],
      "metadata": {
        "id": "owBcIRrtYpsO"
      },
      "execution_count": 6,
      "outputs": []
    },
    {
      "cell_type": "code",
      "source": [
        "import gymnasium as gym\n",
        "import numpy as np\n",
        "import torch as th"
      ],
      "metadata": {
        "id": "4ldB5PcoYulg"
      },
      "execution_count": 7,
      "outputs": []
    },
    {
      "cell_type": "code",
      "source": [
        "from stable_baselines3 import A2C\n",
        "from stable_baselines3.common.evaluation import evaluate_policy"
      ],
      "metadata": {
        "id": "c2RDbQLFYveA"
      },
      "execution_count": 8,
      "outputs": []
    },
    {
      "cell_type": "code",
      "source": [
        "def mutate(params: Dict[str, th.Tensor]) -> Dict[str, th.Tensor]:\n",
        "    \"\"\"Mutate parameters by adding normal noise to them\"\"\"\n",
        "    return dict((name, param + th.randn_like(param)) for name, param in params.items())\n",
        "\n",
        "\n",
        "# Create policy with a small network\n",
        "model = A2C(\n",
        "    \"MlpPolicy\",\n",
        "    \"CartPole-v1\",\n",
        "    ent_coef=0.0,\n",
        "    policy_kwargs={\"net_arch\": [32]},\n",
        "    seed=0,\n",
        "    learning_rate=0.05,\n",
        ")"
      ],
      "metadata": {
        "id": "KNptE9BrYzcy"
      },
      "execution_count": 9,
      "outputs": []
    },
    {
      "cell_type": "code",
      "source": [
        "# Create policy with a small network\n",
        "model = A2C(\n",
        "    \"MlpPolicy\",\n",
        "    \"CartPole-v1\",\n",
        "    ent_coef=0.0,\n",
        "    policy_kwargs={\"net_arch\": [32]},\n",
        "    seed=0,\n",
        "    learning_rate=0.05,\n",
        ")"
      ],
      "metadata": {
        "id": "imQduRjfY31k"
      },
      "execution_count": 10,
      "outputs": []
    },
    {
      "cell_type": "code",
      "source": [
        "# Use traditional actor-critic policy gradient updates to\n",
        "# find good initial parameters\n",
        "model.learn(total_timesteps=10_000)"
      ],
      "metadata": {
        "colab": {
          "base_uri": "https://localhost:8080/"
        },
        "id": "pO16tHK9aKlf",
        "outputId": "b015c5ca-95b7-4b9b-f908-c4dfd2d69788"
      },
      "execution_count": 11,
      "outputs": [
        {
          "output_type": "execute_result",
          "data": {
            "text/plain": [
              "<stable_baselines3.a2c.a2c.A2C at 0x7a25d5a53130>"
            ]
          },
          "metadata": {},
          "execution_count": 11
        }
      ]
    },
    {
      "cell_type": "code",
      "source": [
        "# Include only variables with \"policy\", \"action\" (policy) or \"shared_net\" (shared layers)\n",
        "# in their name: only these ones affect the action.\n",
        "# NOTE: you can retrieve those parameters using model.get_parameters() too\n",
        "mean_params = dict(\n",
        "    (key, value)\n",
        "    for key, value in model.policy.state_dict().items()\n",
        "    if (\"policy\" in key or \"shared_net\" in key or \"action\" in key)\n",
        ")\n"
      ],
      "metadata": {
        "id": "DBjS8LGQaRrC"
      },
      "execution_count": 12,
      "outputs": []
    },
    {
      "cell_type": "code",
      "source": [
        "# population size of 50 invdiduals\n",
        "pop_size = 50\n",
        "# Keep top 10%\n",
        "n_elite = pop_size // 10\n",
        "# Retrieve the environment\n",
        "vec_env = model.get_env()"
      ],
      "metadata": {
        "id": "AlltBu_taW11"
      },
      "execution_count": 13,
      "outputs": []
    },
    {
      "cell_type": "code",
      "source": [
        "for iteration in range(10):\n",
        "    # Create population of candidates and evaluate them\n",
        "    population = []\n",
        "    for population_i in range(pop_size):\n",
        "        candidate = mutate(mean_params)\n",
        "        # Load new policy parameters to agent.\n",
        "        # Tell function that it should only update parameters\n",
        "        # we give it (policy parameters)\n",
        "        model.policy.load_state_dict(candidate, strict=False)\n",
        "        # Evaluate the candidate\n",
        "        fitness, _ = evaluate_policy(model, vec_env)\n",
        "        population.append((candidate, fitness))\n",
        "    # Take top 10% and use average over their parameters as next mean parameter\n",
        "    top_candidates = sorted(population, key=lambda x: x[1], reverse=True)[:n_elite]\n",
        "    mean_params = dict(\n",
        "        (\n",
        "            name,\n",
        "            th.stack([candidate[0][name] for candidate in top_candidates]).mean(dim=0),\n",
        "        )\n",
        "        for name in mean_params.keys()\n",
        "    )\n",
        "    mean_fitness = sum(top_candidate[1] for top_candidate in top_candidates) / n_elite\n",
        "    print(f\"Iteration {iteration + 1:<3} Mean top fitness: {mean_fitness:.2f}\")\n",
        "    print(f\"Best fitness: {top_candidates[0][1]:.2f}\")"
      ],
      "metadata": {
        "colab": {
          "base_uri": "https://localhost:8080/"
        },
        "id": "6TV8TtLQafZ5",
        "outputId": "0e152cc4-c984-4e98-8bde-5ad6f9482d3d"
      },
      "execution_count": 14,
      "outputs": [
        {
          "output_type": "stream",
          "name": "stdout",
          "text": [
            "Iteration 1   Mean top fitness: 201.24\n",
            "Best fitness: 411.10\n",
            "Iteration 2   Mean top fitness: 288.46\n",
            "Best fitness: 315.70\n",
            "Iteration 3   Mean top fitness: 497.06\n",
            "Best fitness: 500.00\n",
            "Iteration 4   Mean top fitness: 500.00\n",
            "Best fitness: 500.00\n",
            "Iteration 5   Mean top fitness: 500.00\n",
            "Best fitness: 500.00\n",
            "Iteration 6   Mean top fitness: 500.00\n",
            "Best fitness: 500.00\n",
            "Iteration 7   Mean top fitness: 500.00\n",
            "Best fitness: 500.00\n",
            "Iteration 8   Mean top fitness: 500.00\n",
            "Best fitness: 500.00\n",
            "Iteration 9   Mean top fitness: 500.00\n",
            "Best fitness: 500.00\n",
            "Iteration 10  Mean top fitness: 500.00\n",
            "Best fitness: 500.00\n"
          ]
        }
      ]
    }
  ]
}