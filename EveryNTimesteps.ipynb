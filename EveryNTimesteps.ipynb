{
  "nbformat": 4,
  "nbformat_minor": 0,
  "metadata": {
    "colab": {
      "provenance": [],
      "authorship_tag": "ABX9TyMxYvHJtmTIHUAKOzGS6ufD",
      "include_colab_link": true
    },
    "kernelspec": {
      "name": "python3",
      "display_name": "Python 3"
    },
    "language_info": {
      "name": "python"
    }
  },
  "cells": [
    {
      "cell_type": "markdown",
      "metadata": {
        "id": "view-in-github",
        "colab_type": "text"
      },
      "source": [
        "<a href=\"https://colab.research.google.com/github/TBKHori/Music-Recon13/blob/main/EveryNTimesteps.ipynb\" target=\"_parent\"><img src=\"https://colab.research.google.com/assets/colab-badge.svg\" alt=\"Open In Colab\"/></a>"
      ]
    },
    {
      "cell_type": "code",
      "source": [
        "!pip install stable_baselines3"
      ],
      "metadata": {
        "colab": {
          "base_uri": "https://localhost:8080/"
        },
        "id": "AXGraAOTegnc",
        "outputId": "225df859-3fab-4d18-f57e-ed582d131ea9"
      },
      "execution_count": 2,
      "outputs": [
        {
          "output_type": "stream",
          "name": "stdout",
          "text": [
            "Requirement already satisfied: stable_baselines3 in /usr/local/lib/python3.10/dist-packages (2.0.0)\n",
            "Requirement already satisfied: gymnasium==0.28.1 in /usr/local/lib/python3.10/dist-packages (from stable_baselines3) (0.28.1)\n",
            "Requirement already satisfied: numpy>=1.20 in /usr/local/lib/python3.10/dist-packages (from stable_baselines3) (1.23.5)\n",
            "Requirement already satisfied: torch>=1.11 in /usr/local/lib/python3.10/dist-packages (from stable_baselines3) (2.0.1+cu118)\n",
            "Requirement already satisfied: cloudpickle in /usr/local/lib/python3.10/dist-packages (from stable_baselines3) (2.2.1)\n",
            "Requirement already satisfied: pandas in /usr/local/lib/python3.10/dist-packages (from stable_baselines3) (1.5.3)\n",
            "Requirement already satisfied: matplotlib in /usr/local/lib/python3.10/dist-packages (from stable_baselines3) (3.7.1)\n",
            "Requirement already satisfied: jax-jumpy>=1.0.0 in /usr/local/lib/python3.10/dist-packages (from gymnasium==0.28.1->stable_baselines3) (1.0.0)\n",
            "Requirement already satisfied: typing-extensions>=4.3.0 in /usr/local/lib/python3.10/dist-packages (from gymnasium==0.28.1->stable_baselines3) (4.7.1)\n",
            "Requirement already satisfied: farama-notifications>=0.0.1 in /usr/local/lib/python3.10/dist-packages (from gymnasium==0.28.1->stable_baselines3) (0.0.4)\n",
            "Requirement already satisfied: filelock in /usr/local/lib/python3.10/dist-packages (from torch>=1.11->stable_baselines3) (3.12.2)\n",
            "Requirement already satisfied: sympy in /usr/local/lib/python3.10/dist-packages (from torch>=1.11->stable_baselines3) (1.11.1)\n",
            "Requirement already satisfied: networkx in /usr/local/lib/python3.10/dist-packages (from torch>=1.11->stable_baselines3) (3.1)\n",
            "Requirement already satisfied: jinja2 in /usr/local/lib/python3.10/dist-packages (from torch>=1.11->stable_baselines3) (3.1.2)\n",
            "Requirement already satisfied: triton==2.0.0 in /usr/local/lib/python3.10/dist-packages (from torch>=1.11->stable_baselines3) (2.0.0)\n",
            "Requirement already satisfied: cmake in /usr/local/lib/python3.10/dist-packages (from triton==2.0.0->torch>=1.11->stable_baselines3) (3.25.2)\n",
            "Requirement already satisfied: lit in /usr/local/lib/python3.10/dist-packages (from triton==2.0.0->torch>=1.11->stable_baselines3) (16.0.6)\n",
            "Requirement already satisfied: contourpy>=1.0.1 in /usr/local/lib/python3.10/dist-packages (from matplotlib->stable_baselines3) (1.1.0)\n",
            "Requirement already satisfied: cycler>=0.10 in /usr/local/lib/python3.10/dist-packages (from matplotlib->stable_baselines3) (0.11.0)\n",
            "Requirement already satisfied: fonttools>=4.22.0 in /usr/local/lib/python3.10/dist-packages (from matplotlib->stable_baselines3) (4.42.0)\n",
            "Requirement already satisfied: kiwisolver>=1.0.1 in /usr/local/lib/python3.10/dist-packages (from matplotlib->stable_baselines3) (1.4.4)\n",
            "Requirement already satisfied: packaging>=20.0 in /usr/local/lib/python3.10/dist-packages (from matplotlib->stable_baselines3) (23.1)\n",
            "Requirement already satisfied: pillow>=6.2.0 in /usr/local/lib/python3.10/dist-packages (from matplotlib->stable_baselines3) (9.4.0)\n",
            "Requirement already satisfied: pyparsing>=2.3.1 in /usr/local/lib/python3.10/dist-packages (from matplotlib->stable_baselines3) (3.1.1)\n",
            "Requirement already satisfied: python-dateutil>=2.7 in /usr/local/lib/python3.10/dist-packages (from matplotlib->stable_baselines3) (2.8.2)\n",
            "Requirement already satisfied: pytz>=2020.1 in /usr/local/lib/python3.10/dist-packages (from pandas->stable_baselines3) (2022.7.1)\n",
            "Requirement already satisfied: six>=1.5 in /usr/local/lib/python3.10/dist-packages (from python-dateutil>=2.7->matplotlib->stable_baselines3) (1.16.0)\n",
            "Requirement already satisfied: MarkupSafe>=2.0 in /usr/local/lib/python3.10/dist-packages (from jinja2->torch>=1.11->stable_baselines3) (2.1.3)\n",
            "Requirement already satisfied: mpmath>=0.19 in /usr/local/lib/python3.10/dist-packages (from sympy->torch>=1.11->stable_baselines3) (1.3.0)\n"
          ]
        }
      ]
    },
    {
      "cell_type": "code",
      "execution_count": 3,
      "metadata": {
        "id": "BKpt_X60bWGz"
      },
      "outputs": [],
      "source": [
        "import gymnasium as gym\n"
      ]
    },
    {
      "cell_type": "code",
      "source": [
        "from stable_baselines3 import PPO\n",
        "from stable_baselines3.common.callbacks import CheckpointCallback, EveryNTimesteps\n"
      ],
      "metadata": {
        "id": "rXKAgG-2egCt"
      },
      "execution_count": 4,
      "outputs": []
    },
    {
      "cell_type": "code",
      "source": [
        "# this is equivalent to defining CheckpointCallback(save_freq=500)\n",
        "# checkpoint_callback will be triggered every 500 steps\n",
        "checkpoint_on_event = CheckpointCallback(save_freq=1, save_path=\"./logs/\")\n",
        "event_callback = EveryNTimesteps(n_steps=500, callback=checkpoint_on_event)\n"
      ],
      "metadata": {
        "id": "2wiNBAJSegSL"
      },
      "execution_count": 5,
      "outputs": []
    },
    {
      "cell_type": "code",
      "source": [
        "model = PPO(\"MlpPolicy\", \"Pendulum-v1\", verbose=1)"
      ],
      "metadata": {
        "colab": {
          "base_uri": "https://localhost:8080/"
        },
        "id": "PQLbGz0-e3yG",
        "outputId": "496903c6-d862-4b6d-9030-700578d488bc"
      },
      "execution_count": 6,
      "outputs": [
        {
          "output_type": "stream",
          "name": "stdout",
          "text": [
            "Using cpu device\n",
            "Creating environment from the given name 'Pendulum-v1'\n",
            "Wrapping the env with a `Monitor` wrapper\n",
            "Wrapping the env in a DummyVecEnv.\n"
          ]
        }
      ]
    },
    {
      "cell_type": "code",
      "source": [
        "model.learn(int(2e4), callback=event_callback)"
      ],
      "metadata": {
        "colab": {
          "base_uri": "https://localhost:8080/"
        },
        "id": "MIle06TIe9iA",
        "outputId": "e9c3a03f-7c8c-4f1f-c9be-549ac23e8800"
      },
      "execution_count": 7,
      "outputs": [
        {
          "output_type": "stream",
          "name": "stdout",
          "text": [
            "----------------------------------\n",
            "| rollout/           |           |\n",
            "|    ep_len_mean     | 200       |\n",
            "|    ep_rew_mean     | -1.19e+03 |\n",
            "| time/              |           |\n",
            "|    fps             | 925       |\n",
            "|    iterations      | 1         |\n",
            "|    time_elapsed    | 2         |\n",
            "|    total_timesteps | 2048      |\n",
            "----------------------------------\n",
            "------------------------------------------\n",
            "| rollout/                |              |\n",
            "|    ep_len_mean          | 200          |\n",
            "|    ep_rew_mean          | -1.24e+03    |\n",
            "| time/                   |              |\n",
            "|    fps                  | 688          |\n",
            "|    iterations           | 2            |\n",
            "|    time_elapsed         | 5            |\n",
            "|    total_timesteps      | 4096         |\n",
            "| train/                  |              |\n",
            "|    approx_kl            | 0.0029987083 |\n",
            "|    clip_fraction        | 0.0124       |\n",
            "|    clip_range           | 0.2          |\n",
            "|    entropy_loss         | -1.42        |\n",
            "|    explained_variance   | -0.00537     |\n",
            "|    learning_rate        | 0.0003       |\n",
            "|    loss                 | 4.46e+03     |\n",
            "|    n_updates            | 10           |\n",
            "|    policy_gradient_loss | -0.00221     |\n",
            "|    std                  | 0.997        |\n",
            "|    value_loss           | 8.97e+03     |\n",
            "------------------------------------------\n",
            "-----------------------------------------\n",
            "| rollout/                |             |\n",
            "|    ep_len_mean          | 200         |\n",
            "|    ep_rew_mean          | -1.19e+03   |\n",
            "| time/                   |             |\n",
            "|    fps                  | 683         |\n",
            "|    iterations           | 3           |\n",
            "|    time_elapsed         | 8           |\n",
            "|    total_timesteps      | 6144        |\n",
            "| train/                  |             |\n",
            "|    approx_kl            | 0.003089566 |\n",
            "|    clip_fraction        | 0.0185      |\n",
            "|    clip_range           | 0.2         |\n",
            "|    entropy_loss         | -1.41       |\n",
            "|    explained_variance   | 0.105       |\n",
            "|    learning_rate        | 0.0003      |\n",
            "|    loss                 | 4.39e+03    |\n",
            "|    n_updates            | 20          |\n",
            "|    policy_gradient_loss | -0.003      |\n",
            "|    std                  | 0.986       |\n",
            "|    value_loss           | 1e+04       |\n",
            "-----------------------------------------\n",
            "------------------------------------------\n",
            "| rollout/                |              |\n",
            "|    ep_len_mean          | 200          |\n",
            "|    ep_rew_mean          | -1.16e+03    |\n",
            "| time/                   |              |\n",
            "|    fps                  | 682          |\n",
            "|    iterations           | 4            |\n",
            "|    time_elapsed         | 12           |\n",
            "|    total_timesteps      | 8192         |\n",
            "| train/                  |              |\n",
            "|    approx_kl            | 0.0019669351 |\n",
            "|    clip_fraction        | 0.00156      |\n",
            "|    clip_range           | 0.2          |\n",
            "|    entropy_loss         | -1.4         |\n",
            "|    explained_variance   | 0.202        |\n",
            "|    learning_rate        | 0.0003       |\n",
            "|    loss                 | 2.96e+03     |\n",
            "|    n_updates            | 30           |\n",
            "|    policy_gradient_loss | -0.00133     |\n",
            "|    std                  | 0.981        |\n",
            "|    value_loss           | 6.1e+03      |\n",
            "------------------------------------------\n",
            "------------------------------------------\n",
            "| rollout/                |              |\n",
            "|    ep_len_mean          | 200          |\n",
            "|    ep_rew_mean          | -1.15e+03    |\n",
            "| time/                   |              |\n",
            "|    fps                  | 610          |\n",
            "|    iterations           | 5            |\n",
            "|    time_elapsed         | 16           |\n",
            "|    total_timesteps      | 10240        |\n",
            "| train/                  |              |\n",
            "|    approx_kl            | 0.0026683009 |\n",
            "|    clip_fraction        | 0.0084       |\n",
            "|    clip_range           | 0.2          |\n",
            "|    entropy_loss         | -1.4         |\n",
            "|    explained_variance   | 0.0223       |\n",
            "|    learning_rate        | 0.0003       |\n",
            "|    loss                 | 3.18e+03     |\n",
            "|    n_updates            | 40           |\n",
            "|    policy_gradient_loss | -0.000609    |\n",
            "|    std                  | 0.977        |\n",
            "|    value_loss           | 7.53e+03     |\n",
            "------------------------------------------\n",
            "------------------------------------------\n",
            "| rollout/                |              |\n",
            "|    ep_len_mean          | 200          |\n",
            "|    ep_rew_mean          | -1.14e+03    |\n",
            "| time/                   |              |\n",
            "|    fps                  | 572          |\n",
            "|    iterations           | 6            |\n",
            "|    time_elapsed         | 21           |\n",
            "|    total_timesteps      | 12288        |\n",
            "| train/                  |              |\n",
            "|    approx_kl            | 0.0014194603 |\n",
            "|    clip_fraction        | 0.00635      |\n",
            "|    clip_range           | 0.2          |\n",
            "|    entropy_loss         | -1.4         |\n",
            "|    explained_variance   | 0.00813      |\n",
            "|    learning_rate        | 0.0003       |\n",
            "|    loss                 | 2.78e+03     |\n",
            "|    n_updates            | 50           |\n",
            "|    policy_gradient_loss | -0.00104     |\n",
            "|    std                  | 0.976        |\n",
            "|    value_loss           | 6.12e+03     |\n",
            "------------------------------------------\n",
            "------------------------------------------\n",
            "| rollout/                |              |\n",
            "|    ep_len_mean          | 200          |\n",
            "|    ep_rew_mean          | -1.14e+03    |\n",
            "| time/                   |              |\n",
            "|    fps                  | 585          |\n",
            "|    iterations           | 7            |\n",
            "|    time_elapsed         | 24           |\n",
            "|    total_timesteps      | 14336        |\n",
            "| train/                  |              |\n",
            "|    approx_kl            | 0.0013548484 |\n",
            "|    clip_fraction        | 0.00317      |\n",
            "|    clip_range           | 0.2          |\n",
            "|    entropy_loss         | -1.39        |\n",
            "|    explained_variance   | 0.00283      |\n",
            "|    learning_rate        | 0.0003       |\n",
            "|    loss                 | 2.91e+03     |\n",
            "|    n_updates            | 60           |\n",
            "|    policy_gradient_loss | -0.000842    |\n",
            "|    std                  | 0.966        |\n",
            "|    value_loss           | 6.32e+03     |\n",
            "------------------------------------------\n",
            "----------------------------------------\n",
            "| rollout/                |            |\n",
            "|    ep_len_mean          | 200        |\n",
            "|    ep_rew_mean          | -1.14e+03  |\n",
            "| time/                   |            |\n",
            "|    fps                  | 591        |\n",
            "|    iterations           | 8          |\n",
            "|    time_elapsed         | 27         |\n",
            "|    total_timesteps      | 16384      |\n",
            "| train/                  |            |\n",
            "|    approx_kl            | 0.00406686 |\n",
            "|    clip_fraction        | 0.0284     |\n",
            "|    clip_range           | 0.2        |\n",
            "|    entropy_loss         | -1.39      |\n",
            "|    explained_variance   | 0.00165    |\n",
            "|    learning_rate        | 0.0003     |\n",
            "|    loss                 | 3.02e+03   |\n",
            "|    n_updates            | 70         |\n",
            "|    policy_gradient_loss | -0.00283   |\n",
            "|    std                  | 0.969      |\n",
            "|    value_loss           | 7.05e+03   |\n",
            "----------------------------------------\n",
            "-----------------------------------------\n",
            "| rollout/                |             |\n",
            "|    ep_len_mean          | 200         |\n",
            "|    ep_rew_mean          | -1.15e+03   |\n",
            "| time/                   |             |\n",
            "|    fps                  | 580         |\n",
            "|    iterations           | 9           |\n",
            "|    time_elapsed         | 31          |\n",
            "|    total_timesteps      | 18432       |\n",
            "| train/                  |             |\n",
            "|    approx_kl            | 0.004535564 |\n",
            "|    clip_fraction        | 0.0514      |\n",
            "|    clip_range           | 0.2         |\n",
            "|    entropy_loss         | -1.39       |\n",
            "|    explained_variance   | 0.00106     |\n",
            "|    learning_rate        | 0.0003      |\n",
            "|    loss                 | 2.87e+03    |\n",
            "|    n_updates            | 80          |\n",
            "|    policy_gradient_loss | -0.00426    |\n",
            "|    std                  | 0.978       |\n",
            "|    value_loss           | 6.52e+03    |\n",
            "-----------------------------------------\n",
            "-----------------------------------------\n",
            "| rollout/                |             |\n",
            "|    ep_len_mean          | 200         |\n",
            "|    ep_rew_mean          | -1.14e+03   |\n",
            "| time/                   |             |\n",
            "|    fps                  | 588         |\n",
            "|    iterations           | 10          |\n",
            "|    time_elapsed         | 34          |\n",
            "|    total_timesteps      | 20480       |\n",
            "| train/                  |             |\n",
            "|    approx_kl            | 0.002317392 |\n",
            "|    clip_fraction        | 0.00762     |\n",
            "|    clip_range           | 0.2         |\n",
            "|    entropy_loss         | -1.39       |\n",
            "|    explained_variance   | 0.00108     |\n",
            "|    learning_rate        | 0.0003      |\n",
            "|    loss                 | 3.54e+03    |\n",
            "|    n_updates            | 90          |\n",
            "|    policy_gradient_loss | -0.00164    |\n",
            "|    std                  | 0.963       |\n",
            "|    value_loss           | 7.65e+03    |\n",
            "-----------------------------------------\n"
          ]
        },
        {
          "output_type": "execute_result",
          "data": {
            "text/plain": [
              "<stable_baselines3.ppo.ppo.PPO at 0x7e5272111000>"
            ]
          },
          "metadata": {},
          "execution_count": 7
        }
      ]
    },
    {
      "cell_type": "code",
      "source": [],
      "metadata": {
        "id": "Q6kgfhcWfTFy"
      },
      "execution_count": null,
      "outputs": []
    }
  ]
}